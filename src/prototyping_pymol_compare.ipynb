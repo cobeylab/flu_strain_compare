{
 "cells": [
  {
   "cell_type": "code",
   "execution_count": 19,
   "metadata": {},
   "outputs": [],
   "source": [
    "from os.path import exists\n",
    "from Bio import SeqIO\n",
    "import pandas as pd\n",
    "import re\n",
    "\n",
    "class flu_mutation:\n",
    "    def __init__(self,\n",
    "        position,\n",
    "        mutation,\n",
    "        strain1,\n",
    "        strain2):\n",
    "        assert (type(position) == str), \"Position must be a string\"\n",
    "        assert (type(mutation) == str), \"Mutation must be identified as a string\"\n",
    "        assert (type(strain1) == str), \"Strain 1 must be a string identifier\"\n",
    "        assert (type(strain2) == str), \"Strain 2 must be a string identifier\"\n",
    "        self.position = position\n",
    "        self.mutation = mutation\n",
    "        self.strain1 = strain1\n",
    "        self.strain2 = strain2\n",
    "    def __str__(self):\n",
    "        return f\"Strain 1: {self.strain1}, Strain 2: {self.strain2}, Mutation: {self.mutation}\"\n",
    "\n",
    "\n",
    "class flu_seq:\n",
    "    def __init__(self,\n",
    "        name,\n",
    "        lineage,\n",
    "        query_sequence_file,\n",
    "        query_sequence_id,\n",
    "        is_aligned,\n",
    "        position_map):\n",
    "        assert (exists(query_sequence_file)), \"Query sequence file must exist\"\n",
    "        assert (type(lineage) == str), \"Lineage must be a string.\"\n",
    "        assert (type(name) == str), \"Name must be a string.\"\n",
    "        assert (type(query_sequence_id) == str), \"Query sequence ID must be a string.\"\n",
    "        assert (type(is_aligned) == bool), \"is_aligned must be a boolean.\"\n",
    "        query_seqs = {s.id: s for s in SeqIO.parse(query_sequence_file, \"fasta\")}\n",
    "        assert (len(query_seqs) >= 1), \"Query sequence file must contain at least 1 sequence.\"\n",
    "        self.name = name\n",
    "        self.lineage = lineage\n",
    "        self.sequence = query_seqs[query_sequence_id]\n",
    "        self.is_aligned = is_aligned\n",
    "        self.position_map = position_map\n",
    "        self.query_sequence_file = query_sequence_file\n",
    "\n",
    "        # Get PNGS sites\n",
    "        gly = re.compile(\"N[-]*[A-O,Q-Z][-]*[S,T]\")\n",
    "        self.pngs = [position_map.loc[m.start(), \"H3\"] for m in gly.finditer(str(self.sequence.seq))]\n",
    "\n",
    "class seq_compare:\n",
    "    def __init__(self, seq1, seq2):\n",
    "        assert (type(seq1) == flu_seq), \"Seq1 must be a flu_seq object\"\n",
    "        assert (type(seq2) == flu_seq), \"Seq2 must be a flu_seq object\"\n",
    "        assert (seq1.is_aligned), \"Seq1 must be aligned\"\n",
    "        assert (seq2.is_aligned), \"Seq2 must be aligned\"\n",
    "        assert (seq1.query_sequence_file == seq2.query_sequence_file), \"Sequences must be from the same alignment\"\n",
    "        self.seq1 = seq1\n",
    "        self.seq2 = seq2\n",
    "    def identify_mutations(self):\n",
    "        mutations_out = []\n",
    "        for i, (b1, b2) in enumerate(zip(self.seq1.sequence.seq, self.seq2.sequence.seq)):\n",
    "            if b1 != b2:\n",
    "                assert (self.seq1.position_map.loc[i, \"H3\"] == self.seq2.position_map.loc[i, \"H3\"]), \"Sequences must use same position map\"\n",
    "                p = self.seq1.position_map.loc[i, \"H3\"]\n",
    "                mutations_out.append(\n",
    "                    flu_mutation(position = str(p),\n",
    "                        mutation = \"\".join([str(b1), str(p), str(b2)]),\n",
    "                        strain1 = self.seq1.name,\n",
    "                        strain2 = self.seq2.name)\n",
    "                )\n",
    "        return mutations_out\n",
    "    def identify_PNGS_changes(self):\n",
    "        glycan_deletions = set(self.seq1.pngs) - set(self.seq2.pngs)\n",
    "        glycan_additions = set(self.seq2.pngs) - set(self.seq1.pngs)\n",
    "        glycans_shared = set(self.seq2.pngs).intersection(set(self.seq1.pngs))\n",
    "        return {\"glycan_deletions\": glycan_deletions, \"glycan_additions\": glycan_additions, \"glycans_shared\": glycans_shared}  "
   ]
  },
  {
   "cell_type": "code",
   "execution_count": 20,
   "metadata": {},
   "outputs": [],
   "source": [
    "position_map_infile = \"position_map_infile.csv\"\n",
    "aligned_seqs = \"./H3N2_HA_GISAID.fasta\"\n",
    "q1_id = \"EPI1487157\"\n",
    "q1_name = \"A/Minnesota/41/2019\"\n",
    "q2_id = \"EPI1752480\"\n",
    "q2_name = \"A/Tasmania/503/2020\"\n",
    "seq_lineage = \"H3N2\"\n",
    "\n",
    "position_map = pd.read_csv(\"EPI1487157_H3_Conversion.txt\", sep = \"\\t\")\n",
    "position_map = position_map[position_map.Query != \"-\"].reset_index()\n",
    "\n",
    "s1 = flu_seq(name = q1_name,\n",
    "    lineage = seq_lineage,\n",
    "    query_sequence_file = aligned_seqs,\n",
    "    query_sequence_id = q1_id,\n",
    "    is_aligned = True,\n",
    "    position_map = position_map\n",
    "    )\n",
    "\n",
    "s2 = flu_seq(name = q2_name,\n",
    "    lineage = seq_lineage,\n",
    "    query_sequence_file = aligned_seqs,\n",
    "    query_sequence_id = q2_id,\n",
    "    is_aligned = True,\n",
    "    position_map = position_map\n",
    "    )\n",
    "\n",
    "mutation_list = seq_compare(seq1 = s1, seq2 = s2).identify_mutations()"
   ]
  },
  {
   "cell_type": "code",
   "execution_count": 21,
   "metadata": {},
   "outputs": [
    {
     "data": {
      "text/plain": [
       "{'glycan_deletions': set(),\n",
       " 'glycan_additions': {'126', '133'},\n",
       " 'glycans_shared': {'122',\n",
       "  '158',\n",
       "  '165',\n",
       "  '22',\n",
       "  '246',\n",
       "  '285',\n",
       "  '38',\n",
       "  '45',\n",
       "  '483',\n",
       "  '63',\n",
       "  '8'}}"
      ]
     },
     "execution_count": 21,
     "metadata": {},
     "output_type": "execute_result"
    }
   ],
   "source": [
    "seq_compare(seq1 = s1, seq2 = s2).identify_PNGS_changes()"
   ]
  },
  {
   "cell_type": "code",
   "execution_count": 11,
   "metadata": {},
   "outputs": [],
   "source": [
    "from pymol import cmd, movie\n",
    "\n",
    "cmd.reinitialize()\n",
    "cmd.fetch('4we8')\n",
    "cmd.symexp('sym','4we8','4we8','3')\n",
    "cmd.delete('sym11000000')\n",
    "cmd.delete('sym04000000')\n",
    "cmd.center('4we8, sym01000000, sym02000000')\n",
    "cmd.set('ray_trace_mode', 0)\n",
    "\n",
    "cmd.select('glycans', 'resn NAG or resn BMA or resn MAN')\n",
    "cmd.hide('everything')\n",
    "cmd.show('spheres')\n",
    "cmd.show('sticks', 'glycans')\n",
    "cmd.hide('spheres', 'glycans')\n",
    "cmd.remove('solvent')\n",
    "cmd.color('grey', 'all')\n"
   ]
  },
  {
   "cell_type": "code",
   "execution_count": 14,
   "metadata": {},
   "outputs": [
    {
     "data": {
      "text/plain": [
       "['83',\n",
       " '94',\n",
       " '128',\n",
       " '131',\n",
       " '135',\n",
       " '137',\n",
       " '138',\n",
       " '186',\n",
       " '195',\n",
       " '198',\n",
       " '522',\n",
       " '529']"
      ]
     },
     "execution_count": 14,
     "metadata": {},
     "output_type": "execute_result"
    }
   ],
   "source": [
    "[m.position for m in mutation_list if m.position != \"-\"]"
   ]
  },
  {
   "cell_type": "code",
   "execution_count": 22,
   "metadata": {},
   "outputs": [
    {
     "name": "stdout",
     "output_type": "stream",
     "text": [
      "T-A\n",
      "K83E\n",
      "Y94N\n",
      "A128T\n",
      "T131K\n",
      "K135T\n",
      "F137S\n",
      "S138A\n",
      "G186S\n",
      "Y195F\n",
      "S198P\n",
      "I522M\n",
      "V529I\n"
     ]
    }
   ],
   "source": [
    "for m in mutation_list:\n",
    "    print(m.mutation)"
   ]
  },
  {
   "cell_type": "code",
   "execution_count": null,
   "metadata": {},
   "outputs": [],
   "source": []
  }
 ],
 "metadata": {
  "interpreter": {
   "hash": "12a76388b4b2ce93228ce682e6287c393a7c2574618c0478a4a78e282fbb475a"
  },
  "kernelspec": {
   "display_name": "Python 3.9.8 64-bit (windows store)",
   "language": "python",
   "name": "python3"
  },
  "language_info": {
   "codemirror_mode": {
    "name": "ipython",
    "version": 3
   },
   "file_extension": ".py",
   "mimetype": "text/x-python",
   "name": "python",
   "nbconvert_exporter": "python",
   "pygments_lexer": "ipython3",
   "version": "3.7.1"
  },
  "orig_nbformat": 4
 },
 "nbformat": 4,
 "nbformat_minor": 2
}
